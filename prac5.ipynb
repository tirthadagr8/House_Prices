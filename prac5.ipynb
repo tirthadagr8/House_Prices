{
 "cells": [
  {
   "cell_type": "code",
   "execution_count": 1,
   "metadata": {},
   "outputs": [],
   "source": [
    "import tensorflow as tf\n",
    "from tensorflow import keras\n",
    "import numpy as np\n",
    "import pandas as pd\n",
    "import seaborn as sns\n",
    "import matplotlib.pyplot as plt\n",
    "from tensorflow.keras.models import Sequential\n",
    "from tensorflow.keras.layers import Activation, Dense, Flatten, Conv2D,MaxPool2D,Dropout, Normalization\n",
    "from tensorflow.keras.optimizers import Adam\n",
    "from tensorflow.keras.metrics import categorical_crossentropy,sparse_categorical_crossentropy\n",
    "from tensorflow.keras.preprocessing.image import ImageDataGenerator\n",
    "from sklearn.metrics import confusion_matrix\n",
    "from sklearn.preprocessing import LabelEncoder\n",
    "from sklearn.preprocessing import StandardScaler\n",
    "import os\n",
    "import glob\n",
    "import shutil\n",
    "import random\n",
    "from keras.models import Model\n",
    "import pickle\n",
    "from keras.applications.vgg16 import VGG16\n",
    "from keras.applications.vgg16 import preprocess_input"
   ]
  },
  {
   "cell_type": "code",
   "execution_count": 2,
   "metadata": {},
   "outputs": [],
   "source": [
    "data=pd.read_csv('train.csv')\n",
    "test=pd.read_csv('test.csv')"
   ]
  },
  {
   "cell_type": "code",
   "execution_count": 3,
   "metadata": {},
   "outputs": [],
   "source": [
    "final_submit_id=test['Id']"
   ]
  },
  {
   "cell_type": "code",
   "execution_count": 4,
   "metadata": {},
   "outputs": [
    {
     "data": {
      "text/html": [
       "<div>\n",
       "<style scoped>\n",
       "    .dataframe tbody tr th:only-of-type {\n",
       "        vertical-align: middle;\n",
       "    }\n",
       "\n",
       "    .dataframe tbody tr th {\n",
       "        vertical-align: top;\n",
       "    }\n",
       "\n",
       "    .dataframe thead th {\n",
       "        text-align: right;\n",
       "    }\n",
       "</style>\n",
       "<table border=\"1\" class=\"dataframe\">\n",
       "  <thead>\n",
       "    <tr style=\"text-align: right;\">\n",
       "      <th></th>\n",
       "      <th>Id</th>\n",
       "      <th>MSSubClass</th>\n",
       "      <th>MSZoning</th>\n",
       "      <th>LotFrontage</th>\n",
       "      <th>LotArea</th>\n",
       "      <th>Street</th>\n",
       "      <th>Alley</th>\n",
       "      <th>LotShape</th>\n",
       "      <th>LandContour</th>\n",
       "      <th>Utilities</th>\n",
       "      <th>...</th>\n",
       "      <th>PoolArea</th>\n",
       "      <th>PoolQC</th>\n",
       "      <th>Fence</th>\n",
       "      <th>MiscFeature</th>\n",
       "      <th>MiscVal</th>\n",
       "      <th>MoSold</th>\n",
       "      <th>YrSold</th>\n",
       "      <th>SaleType</th>\n",
       "      <th>SaleCondition</th>\n",
       "      <th>SalePrice</th>\n",
       "    </tr>\n",
       "  </thead>\n",
       "  <tbody>\n",
       "    <tr>\n",
       "      <th>0</th>\n",
       "      <td>1</td>\n",
       "      <td>60</td>\n",
       "      <td>RL</td>\n",
       "      <td>65.0</td>\n",
       "      <td>8450</td>\n",
       "      <td>Pave</td>\n",
       "      <td>NaN</td>\n",
       "      <td>Reg</td>\n",
       "      <td>Lvl</td>\n",
       "      <td>AllPub</td>\n",
       "      <td>...</td>\n",
       "      <td>0</td>\n",
       "      <td>NaN</td>\n",
       "      <td>NaN</td>\n",
       "      <td>NaN</td>\n",
       "      <td>0</td>\n",
       "      <td>2</td>\n",
       "      <td>2008</td>\n",
       "      <td>WD</td>\n",
       "      <td>Normal</td>\n",
       "      <td>208500</td>\n",
       "    </tr>\n",
       "    <tr>\n",
       "      <th>1</th>\n",
       "      <td>2</td>\n",
       "      <td>20</td>\n",
       "      <td>RL</td>\n",
       "      <td>80.0</td>\n",
       "      <td>9600</td>\n",
       "      <td>Pave</td>\n",
       "      <td>NaN</td>\n",
       "      <td>Reg</td>\n",
       "      <td>Lvl</td>\n",
       "      <td>AllPub</td>\n",
       "      <td>...</td>\n",
       "      <td>0</td>\n",
       "      <td>NaN</td>\n",
       "      <td>NaN</td>\n",
       "      <td>NaN</td>\n",
       "      <td>0</td>\n",
       "      <td>5</td>\n",
       "      <td>2007</td>\n",
       "      <td>WD</td>\n",
       "      <td>Normal</td>\n",
       "      <td>181500</td>\n",
       "    </tr>\n",
       "    <tr>\n",
       "      <th>2</th>\n",
       "      <td>3</td>\n",
       "      <td>60</td>\n",
       "      <td>RL</td>\n",
       "      <td>68.0</td>\n",
       "      <td>11250</td>\n",
       "      <td>Pave</td>\n",
       "      <td>NaN</td>\n",
       "      <td>IR1</td>\n",
       "      <td>Lvl</td>\n",
       "      <td>AllPub</td>\n",
       "      <td>...</td>\n",
       "      <td>0</td>\n",
       "      <td>NaN</td>\n",
       "      <td>NaN</td>\n",
       "      <td>NaN</td>\n",
       "      <td>0</td>\n",
       "      <td>9</td>\n",
       "      <td>2008</td>\n",
       "      <td>WD</td>\n",
       "      <td>Normal</td>\n",
       "      <td>223500</td>\n",
       "    </tr>\n",
       "    <tr>\n",
       "      <th>3</th>\n",
       "      <td>4</td>\n",
       "      <td>70</td>\n",
       "      <td>RL</td>\n",
       "      <td>60.0</td>\n",
       "      <td>9550</td>\n",
       "      <td>Pave</td>\n",
       "      <td>NaN</td>\n",
       "      <td>IR1</td>\n",
       "      <td>Lvl</td>\n",
       "      <td>AllPub</td>\n",
       "      <td>...</td>\n",
       "      <td>0</td>\n",
       "      <td>NaN</td>\n",
       "      <td>NaN</td>\n",
       "      <td>NaN</td>\n",
       "      <td>0</td>\n",
       "      <td>2</td>\n",
       "      <td>2006</td>\n",
       "      <td>WD</td>\n",
       "      <td>Abnorml</td>\n",
       "      <td>140000</td>\n",
       "    </tr>\n",
       "    <tr>\n",
       "      <th>4</th>\n",
       "      <td>5</td>\n",
       "      <td>60</td>\n",
       "      <td>RL</td>\n",
       "      <td>84.0</td>\n",
       "      <td>14260</td>\n",
       "      <td>Pave</td>\n",
       "      <td>NaN</td>\n",
       "      <td>IR1</td>\n",
       "      <td>Lvl</td>\n",
       "      <td>AllPub</td>\n",
       "      <td>...</td>\n",
       "      <td>0</td>\n",
       "      <td>NaN</td>\n",
       "      <td>NaN</td>\n",
       "      <td>NaN</td>\n",
       "      <td>0</td>\n",
       "      <td>12</td>\n",
       "      <td>2008</td>\n",
       "      <td>WD</td>\n",
       "      <td>Normal</td>\n",
       "      <td>250000</td>\n",
       "    </tr>\n",
       "  </tbody>\n",
       "</table>\n",
       "<p>5 rows × 81 columns</p>\n",
       "</div>"
      ],
      "text/plain": [
       "   Id  MSSubClass MSZoning  LotFrontage  LotArea Street Alley LotShape  \\\n",
       "0   1          60       RL         65.0     8450   Pave   NaN      Reg   \n",
       "1   2          20       RL         80.0     9600   Pave   NaN      Reg   \n",
       "2   3          60       RL         68.0    11250   Pave   NaN      IR1   \n",
       "3   4          70       RL         60.0     9550   Pave   NaN      IR1   \n",
       "4   5          60       RL         84.0    14260   Pave   NaN      IR1   \n",
       "\n",
       "  LandContour Utilities  ... PoolArea PoolQC Fence MiscFeature MiscVal MoSold  \\\n",
       "0         Lvl    AllPub  ...        0    NaN   NaN         NaN       0      2   \n",
       "1         Lvl    AllPub  ...        0    NaN   NaN         NaN       0      5   \n",
       "2         Lvl    AllPub  ...        0    NaN   NaN         NaN       0      9   \n",
       "3         Lvl    AllPub  ...        0    NaN   NaN         NaN       0      2   \n",
       "4         Lvl    AllPub  ...        0    NaN   NaN         NaN       0     12   \n",
       "\n",
       "  YrSold  SaleType  SaleCondition  SalePrice  \n",
       "0   2008        WD         Normal     208500  \n",
       "1   2007        WD         Normal     181500  \n",
       "2   2008        WD         Normal     223500  \n",
       "3   2006        WD        Abnorml     140000  \n",
       "4   2008        WD         Normal     250000  \n",
       "\n",
       "[5 rows x 81 columns]"
      ]
     },
     "execution_count": 4,
     "metadata": {},
     "output_type": "execute_result"
    }
   ],
   "source": [
    "data.head()"
   ]
  },
  {
   "cell_type": "code",
   "execution_count": 5,
   "metadata": {},
   "outputs": [],
   "source": [
    "data.index=data.pop('Id')\n",
    "test.index=test.pop('Id')"
   ]
  },
  {
   "cell_type": "code",
   "execution_count": 6,
   "metadata": {},
   "outputs": [],
   "source": [
    "temp=data['SalePrice']"
   ]
  },
  {
   "cell_type": "code",
   "execution_count": 7,
   "metadata": {},
   "outputs": [
    {
     "data": {
      "text/plain": [
       "<AxesSubplot: ylabel='Id'>"
      ]
     },
     "execution_count": 7,
     "metadata": {},
     "output_type": "execute_result"
    },
    {
     "data": {
      "image/png": "[encoded data removed]",
      "text/plain": [
       "<Figure size 640x480 with 2 Axes>"
      ]
     },
     "metadata": {},
     "output_type": "display_data"
    }
   ],
   "source": [
    "sns.heatmap(data.isnull())"
   ]
  },
  {
   "attachments": {},
   "cell_type": "markdown",
   "metadata": {},
   "source": [
    "1460 no of rows"
   ]
  },
  {
   "cell_type": "code",
   "execution_count": 8,
   "metadata": {},
   "outputs": [],
   "source": [
    "# col=data.columns"
   ]
  },
  {
   "cell_type": "code",
   "execution_count": 9,
   "metadata": {},
   "outputs": [],
   "source": [
    "# for c in col:\n",
    "#     print(c,' ',data[c].isnull().sum())"
   ]
  },
  {
   "cell_type": "code",
   "execution_count": 10,
   "metadata": {},
   "outputs": [],
   "source": [
    "y=data['SalePrice']\n",
    "data=data.drop(['SalePrice'],axis=1)\n",
    "data=data.drop(['Alley','PoolQC','Fence','MiscFeature','FireplaceQu'],axis=1)\n",
    "test=test.drop(['Alley','PoolQC','Fence','MiscFeature','FireplaceQu'],axis=1)\n",
    "col=data.columns"
   ]
  },
  {
   "cell_type": "code",
   "execution_count": 11,
   "metadata": {},
   "outputs": [],
   "source": [
    "y=y.to_numpy()\n",
    "y=y.reshape(len(y),1)"
   ]
  },
  {
   "cell_type": "code",
   "execution_count": 12,
   "metadata": {},
   "outputs": [],
   "source": [
    "tt=y"
   ]
  },
  {
   "cell_type": "code",
   "execution_count": 13,
   "metadata": {},
   "outputs": [],
   "source": [
    "obj=[]\n",
    "num=[]\n",
    "for c in col:\n",
    "    if data[c].dtype=='float64':\n",
    "        num.append(c)\n",
    "    else:\n",
    "        obj.append(c)\n",
    "\n",
    "# for o in obj:\n",
    "#     data[o]=data[o].fillna(\" \")\n",
    "#     test[o]=test[o].fillna(\" \")\n",
    "\n",
    "for o in obj:\n",
    "    le=LabelEncoder()\n",
    "    le.fit(data[o])\n",
    "    temp1=le.transform(data[o])\n",
    "    data[o]=temp1\n",
    "    le=LabelEncoder()\n",
    "    le.fit(test[o])\n",
    "    temp2=le.transform(test[o])\n",
    "    test[o]=temp2\n",
    "\n",
    "for n in num:\n",
    "    data[n]=data[n].fillna(data[n].mean())\n",
    "    test[n]=test[n].fillna(test[n].mean())\n",
    "sc=StandardScaler()\n",
    "columns=data.columns\n",
    "data[columns]=sc.fit_transform(data[columns])\n",
    "test[columns]=sc.fit_transform(test[columns])\n",
    "y=sc.fit_transform(y)"
   ]
  },
  {
   "cell_type": "code",
   "execution_count": 14,
   "metadata": {},
   "outputs": [],
   "source": [
    "train_df=data\n",
    "test_df=test"
   ]
  },
  {
   "cell_type": "code",
   "execution_count": 15,
   "metadata": {},
   "outputs": [
    {
     "data": {
      "text/plain": [
       "array([[ 0.34727322],\n",
       "       [ 0.00728832],\n",
       "       [ 0.53615372],\n",
       "       ...,\n",
       "       [ 1.07761115],\n",
       "       [-0.48852299],\n",
       "       [-0.42084081]])"
      ]
     },
     "execution_count": 15,
     "metadata": {},
     "output_type": "execute_result"
    }
   ],
   "source": [
    "y"
   ]
  },
  {
   "cell_type": "code",
   "execution_count": 16,
   "metadata": {},
   "outputs": [],
   "source": [
    "# y=tt\n",
    "# print(y[0])\n",
    "# y=y.reshape((y.shape[1],1))\n",
    "# y=sc.fit_transform(y)"
   ]
  },
  {
   "cell_type": "code",
   "execution_count": 17,
   "metadata": {},
   "outputs": [],
   "source": [
    "# y"
   ]
  },
  {
   "cell_type": "code",
   "execution_count": 18,
   "metadata": {},
   "outputs": [
    {
     "data": {
      "text/plain": [
       "(1460, 74)"
      ]
     },
     "execution_count": 18,
     "metadata": {},
     "output_type": "execute_result"
    }
   ],
   "source": [
    "data.shape"
   ]
  },
  {
   "cell_type": "code",
   "execution_count": 19,
   "metadata": {},
   "outputs": [
    {
     "data": {
      "text/html": [
       "<div>\n",
       "<style scoped>\n",
       "    .dataframe tbody tr th:only-of-type {\n",
       "        vertical-align: middle;\n",
       "    }\n",
       "\n",
       "    .dataframe tbody tr th {\n",
       "        vertical-align: top;\n",
       "    }\n",
       "\n",
       "    .dataframe thead th {\n",
       "        text-align: right;\n",
       "    }\n",
       "</style>\n",
       "<table border=\"1\" class=\"dataframe\">\n",
       "  <thead>\n",
       "    <tr style=\"text-align: right;\">\n",
       "      <th></th>\n",
       "      <th>MSSubClass</th>\n",
       "      <th>MSZoning</th>\n",
       "      <th>LotFrontage</th>\n",
       "      <th>LotArea</th>\n",
       "      <th>Street</th>\n",
       "      <th>LotShape</th>\n",
       "      <th>LandContour</th>\n",
       "      <th>Utilities</th>\n",
       "      <th>LotConfig</th>\n",
       "      <th>LandSlope</th>\n",
       "      <th>...</th>\n",
       "      <th>OpenPorchSF</th>\n",
       "      <th>EnclosedPorch</th>\n",
       "      <th>3SsnPorch</th>\n",
       "      <th>ScreenPorch</th>\n",
       "      <th>PoolArea</th>\n",
       "      <th>MiscVal</th>\n",
       "      <th>MoSold</th>\n",
       "      <th>YrSold</th>\n",
       "      <th>SaleType</th>\n",
       "      <th>SaleCondition</th>\n",
       "    </tr>\n",
       "    <tr>\n",
       "      <th>Id</th>\n",
       "      <th></th>\n",
       "      <th></th>\n",
       "      <th></th>\n",
       "      <th></th>\n",
       "      <th></th>\n",
       "      <th></th>\n",
       "      <th></th>\n",
       "      <th></th>\n",
       "      <th></th>\n",
       "      <th></th>\n",
       "      <th></th>\n",
       "      <th></th>\n",
       "      <th></th>\n",
       "      <th></th>\n",
       "      <th></th>\n",
       "      <th></th>\n",
       "      <th></th>\n",
       "      <th></th>\n",
       "      <th></th>\n",
       "      <th></th>\n",
       "      <th></th>\n",
       "    </tr>\n",
       "  </thead>\n",
       "  <tbody>\n",
       "    <tr>\n",
       "      <th>1</th>\n",
       "      <td>0.200350</td>\n",
       "      <td>-0.045532</td>\n",
       "      <td>-0.229372</td>\n",
       "      <td>-0.549214</td>\n",
       "      <td>0.064238</td>\n",
       "      <td>0.750731</td>\n",
       "      <td>0.314667</td>\n",
       "      <td>-0.02618</td>\n",
       "      <td>0.604670</td>\n",
       "      <td>-0.225716</td>\n",
       "      <td>...</td>\n",
       "      <td>0.279117</td>\n",
       "      <td>-0.352247</td>\n",
       "      <td>-0.114517</td>\n",
       "      <td>-0.255029</td>\n",
       "      <td>-0.062051</td>\n",
       "      <td>-0.162018</td>\n",
       "      <td>-1.599111</td>\n",
       "      <td>0.138777</td>\n",
       "      <td>0.313867</td>\n",
       "      <td>0.208502</td>\n",
       "    </tr>\n",
       "    <tr>\n",
       "      <th>2</th>\n",
       "      <td>-1.001421</td>\n",
       "      <td>-0.045532</td>\n",
       "      <td>0.451936</td>\n",
       "      <td>0.019617</td>\n",
       "      <td>0.064238</td>\n",
       "      <td>0.750731</td>\n",
       "      <td>0.314667</td>\n",
       "      <td>-0.02618</td>\n",
       "      <td>-0.628316</td>\n",
       "      <td>-0.225716</td>\n",
       "      <td>...</td>\n",
       "      <td>-0.744360</td>\n",
       "      <td>-0.352247</td>\n",
       "      <td>-0.114517</td>\n",
       "      <td>-0.255029</td>\n",
       "      <td>-0.062051</td>\n",
       "      <td>-0.162018</td>\n",
       "      <td>-0.489110</td>\n",
       "      <td>-0.614439</td>\n",
       "      <td>0.313867</td>\n",
       "      <td>0.208502</td>\n",
       "    </tr>\n",
       "    <tr>\n",
       "      <th>3</th>\n",
       "      <td>0.200350</td>\n",
       "      <td>-0.045532</td>\n",
       "      <td>-0.093110</td>\n",
       "      <td>0.698223</td>\n",
       "      <td>0.064238</td>\n",
       "      <td>-1.378933</td>\n",
       "      <td>0.314667</td>\n",
       "      <td>-0.02618</td>\n",
       "      <td>0.604670</td>\n",
       "      <td>-0.225716</td>\n",
       "      <td>...</td>\n",
       "      <td>-0.117741</td>\n",
       "      <td>-0.352247</td>\n",
       "      <td>-0.114517</td>\n",
       "      <td>-0.255029</td>\n",
       "      <td>-0.062051</td>\n",
       "      <td>-0.162018</td>\n",
       "      <td>0.990891</td>\n",
       "      <td>0.138777</td>\n",
       "      <td>0.313867</td>\n",
       "      <td>0.208502</td>\n",
       "    </tr>\n",
       "    <tr>\n",
       "      <th>4</th>\n",
       "      <td>0.440704</td>\n",
       "      <td>-0.045532</td>\n",
       "      <td>-0.456474</td>\n",
       "      <td>-0.010321</td>\n",
       "      <td>0.064238</td>\n",
       "      <td>-1.378933</td>\n",
       "      <td>0.314667</td>\n",
       "      <td>-0.02618</td>\n",
       "      <td>-1.861302</td>\n",
       "      <td>-0.225716</td>\n",
       "      <td>...</td>\n",
       "      <td>-0.243065</td>\n",
       "      <td>4.284008</td>\n",
       "      <td>-0.114517</td>\n",
       "      <td>-0.255029</td>\n",
       "      <td>-0.062051</td>\n",
       "      <td>-0.162018</td>\n",
       "      <td>-1.599111</td>\n",
       "      <td>-1.367655</td>\n",
       "      <td>0.313867</td>\n",
       "      <td>-3.426284</td>\n",
       "    </tr>\n",
       "    <tr>\n",
       "      <th>5</th>\n",
       "      <td>0.200350</td>\n",
       "      <td>-0.045532</td>\n",
       "      <td>0.633618</td>\n",
       "      <td>1.440032</td>\n",
       "      <td>0.064238</td>\n",
       "      <td>-1.378933</td>\n",
       "      <td>0.314667</td>\n",
       "      <td>-0.02618</td>\n",
       "      <td>-0.628316</td>\n",
       "      <td>-0.225716</td>\n",
       "      <td>...</td>\n",
       "      <td>0.717751</td>\n",
       "      <td>-0.352247</td>\n",
       "      <td>-0.114517</td>\n",
       "      <td>-0.255029</td>\n",
       "      <td>-0.062051</td>\n",
       "      <td>-0.162018</td>\n",
       "      <td>2.100892</td>\n",
       "      <td>0.138777</td>\n",
       "      <td>0.313867</td>\n",
       "      <td>0.208502</td>\n",
       "    </tr>\n",
       "  </tbody>\n",
       "</table>\n",
       "<p>5 rows × 74 columns</p>\n",
       "</div>"
      ],
      "text/plain": [
       "    MSSubClass  MSZoning  LotFrontage   LotArea    Street  LotShape  \\\n",
       "Id                                                                    \n",
       "1     0.200350 -0.045532    -0.229372 -0.549214  0.064238  0.750731   \n",
       "2    -1.001421 -0.045532     0.451936  0.019617  0.064238  0.750731   \n",
       "3     0.200350 -0.045532    -0.093110  0.698223  0.064238 -1.378933   \n",
       "4     0.440704 -0.045532    -0.456474 -0.010321  0.064238 -1.378933   \n",
       "5     0.200350 -0.045532     0.633618  1.440032  0.064238 -1.378933   \n",
       "\n",
       "    LandContour  Utilities  LotConfig  LandSlope  ...  OpenPorchSF  \\\n",
       "Id                                                ...                \n",
       "1      0.314667   -0.02618   0.604670  -0.225716  ...     0.279117   \n",
       "2      0.314667   -0.02618  -0.628316  -0.225716  ...    -0.744360   \n",
       "3      0.314667   -0.02618   0.604670  -0.225716  ...    -0.117741   \n",
       "4      0.314667   -0.02618  -1.861302  -0.225716  ...    -0.243065   \n",
       "5      0.314667   -0.02618  -0.628316  -0.225716  ...     0.717751   \n",
       "\n",
       "    EnclosedPorch  3SsnPorch  ScreenPorch  PoolArea   MiscVal    MoSold  \\\n",
       "Id                                                                        \n",
       "1       -0.352247  -0.114517    -0.255029 -0.062051 -0.162018 -1.599111   \n",
       "2       -0.352247  -0.114517    -0.255029 -0.062051 -0.162018 -0.489110   \n",
       "3       -0.352247  -0.114517    -0.255029 -0.062051 -0.162018  0.990891   \n",
       "4        4.284008  -0.114517    -0.255029 -0.062051 -0.162018 -1.599111   \n",
       "5       -0.352247  -0.114517    -0.255029 -0.062051 -0.162018  2.100892   \n",
       "\n",
       "      YrSold  SaleType  SaleCondition  \n",
       "Id                                     \n",
       "1   0.138777  0.313867       0.208502  \n",
       "2  -0.614439  0.313867       0.208502  \n",
       "3   0.138777  0.313867       0.208502  \n",
       "4  -1.367655  0.313867      -3.426284  \n",
       "5   0.138777  0.313867       0.208502  \n",
       "\n",
       "[5 rows x 74 columns]"
      ]
     },
     "execution_count": 19,
     "metadata": {},
     "output_type": "execute_result"
    }
   ],
   "source": [
    "data.head()"
   ]
  },
  {
   "cell_type": "code",
   "execution_count": 20,
   "metadata": {},
   "outputs": [],
   "source": [
    "df_as_np=data.to_numpy()\n",
    "Y=y\n",
    "middle=df_as_np\n",
    "X=middle.reshape((len(Y),middle.shape[1]))\n",
    "test_data=test.to_numpy()\n",
    "final_test=test_data.reshape((len(test_data),middle.shape[1]))\n",
    "# Y=temp.to_numpy()"
   ]
  },
  {
   "cell_type": "code",
   "execution_count": 21,
   "metadata": {},
   "outputs": [
    {
     "name": "stdout",
     "output_type": "stream",
     "text": [
      "(1460, 74)\n",
      "(1460, 1)\n",
      "(1459, 74)\n"
     ]
    }
   ],
   "source": [
    "print(X.shape)\n",
    "print(Y.shape)\n",
    "print(final_test.shape)"
   ]
  },
  {
   "cell_type": "code",
   "execution_count": 22,
   "metadata": {},
   "outputs": [],
   "source": [
    "q_80=int(len(Y)*0.8)\n",
    "q_90=int(len(Y)*0.9)\n",
    "X_train,y_train=X[:q_80],Y[:q_80]\n",
    "X_val, y_val = X[q_80:q_90], Y[q_80:q_90]\n",
    "X_test, y_test=X[q_90:], Y[q_90:]"
   ]
  },
  {
   "cell_type": "code",
   "execution_count": 23,
   "metadata": {},
   "outputs": [],
   "source": [
    "sale_normalizer = Normalization(input_shape=(74,),axis=-1)\n",
    "sale_normalizer.adapt(X_train)"
   ]
  },
  {
   "cell_type": "code",
   "execution_count": 111,
   "metadata": {},
   "outputs": [],
   "source": [
    "from tensorflow.keras.models import Sequential\n",
    "from tensorflow.keras.optimizers import Adam\n",
    "from tensorflow.keras import layers\n",
    "\n",
    "model=Sequential([\n",
    "    # sale_normalizer,\n",
    "    # Dropout(0.2),\n",
    "    layers.Dense(128,input_shape=(74,),activation='relu'),        ## '64' is the number of units(neurons) and is necessary for dense layers\n",
    "    # Dropout(0.2),\n",
    "    layers.Dense(256, activation='relu'),\n",
    "    # Dropout(0.2),\n",
    "    layers.Dense(256, activation='relu'),\n",
    "    # Dropout(0.2),\n",
    "    layers.Dense(256, activation='relu'),\n",
    "    # Dropout(0.2),\n",
    "    layers.Dense(1,activation='linear')\n",
    "])"
   ]
  },
  {
   "cell_type": "code",
   "execution_count": 112,
   "metadata": {},
   "outputs": [],
   "source": [
    "model.compile(loss='mean_absolute_error', optimizer='adam', metrics=['mean_absolute_error'])"
   ]
  },
  {
   "cell_type": "code",
   "execution_count": 113,
   "metadata": {},
   "outputs": [
    {
     "name": "stdout",
     "output_type": "stream",
     "text": [
      "Epoch 1/100\n",
      "37/37 - 1s - loss: 0.3293 - mean_absolute_error: 0.3293 - val_loss: 0.2847 - val_mean_absolute_error: 0.2847 - 666ms/epoch - 18ms/step\n",
      "Epoch 2/100\n",
      "37/37 - 0s - loss: 0.2231 - mean_absolute_error: 0.2231 - val_loss: 0.2644 - val_mean_absolute_error: 0.2644 - 135ms/epoch - 4ms/step\n",
      "Epoch 3/100\n",
      "37/37 - 0s - loss: 0.1885 - mean_absolute_error: 0.1885 - val_loss: 0.2975 - val_mean_absolute_error: 0.2975 - 132ms/epoch - 4ms/step\n",
      "Epoch 4/100\n",
      "37/37 - 0s - loss: 0.1738 - mean_absolute_error: 0.1738 - val_loss: 0.2745 - val_mean_absolute_error: 0.2745 - 141ms/epoch - 4ms/step\n",
      "Epoch 5/100\n",
      "37/37 - 0s - loss: 0.1468 - mean_absolute_error: 0.1468 - val_loss: 0.2982 - val_mean_absolute_error: 0.2982 - 143ms/epoch - 4ms/step\n",
      "Epoch 6/100\n",
      "37/37 - 0s - loss: 0.1565 - mean_absolute_error: 0.1565 - val_loss: 0.2874 - val_mean_absolute_error: 0.2874 - 136ms/epoch - 4ms/step\n",
      "Epoch 7/100\n",
      "37/37 - 0s - loss: 0.1366 - mean_absolute_error: 0.1366 - val_loss: 0.2613 - val_mean_absolute_error: 0.2613 - 128ms/epoch - 3ms/step\n",
      "Epoch 8/100\n",
      "37/37 - 0s - loss: 0.1206 - mean_absolute_error: 0.1206 - val_loss: 0.2628 - val_mean_absolute_error: 0.2628 - 120ms/epoch - 3ms/step\n",
      "Epoch 9/100\n",
      "37/37 - 0s - loss: 0.1167 - mean_absolute_error: 0.1167 - val_loss: 0.2639 - val_mean_absolute_error: 0.2639 - 102ms/epoch - 3ms/step\n",
      "Epoch 10/100\n",
      "37/37 - 0s - loss: 0.1296 - mean_absolute_error: 0.1296 - val_loss: 0.2479 - val_mean_absolute_error: 0.2479 - 114ms/epoch - 3ms/step\n",
      "Epoch 11/100\n",
      "37/37 - 0s - loss: 0.1264 - mean_absolute_error: 0.1264 - val_loss: 0.2636 - val_mean_absolute_error: 0.2636 - 107ms/epoch - 3ms/step\n",
      "Epoch 12/100\n",
      "37/37 - 0s - loss: 0.1044 - mean_absolute_error: 0.1044 - val_loss: 0.2552 - val_mean_absolute_error: 0.2552 - 108ms/epoch - 3ms/step\n",
      "Epoch 13/100\n",
      "37/37 - 0s - loss: 0.1014 - mean_absolute_error: 0.1014 - val_loss: 0.2569 - val_mean_absolute_error: 0.2569 - 100ms/epoch - 3ms/step\n",
      "Epoch 14/100\n",
      "37/37 - 0s - loss: 0.1038 - mean_absolute_error: 0.1038 - val_loss: 0.2491 - val_mean_absolute_error: 0.2491 - 115ms/epoch - 3ms/step\n",
      "Epoch 15/100\n",
      "37/37 - 0s - loss: 0.0922 - mean_absolute_error: 0.0922 - val_loss: 0.2600 - val_mean_absolute_error: 0.2600 - 114ms/epoch - 3ms/step\n",
      "Epoch 16/100\n",
      "37/37 - 0s - loss: 0.0856 - mean_absolute_error: 0.0856 - val_loss: 0.2639 - val_mean_absolute_error: 0.2639 - 138ms/epoch - 4ms/step\n",
      "Epoch 17/100\n",
      "37/37 - 0s - loss: 0.0914 - mean_absolute_error: 0.0914 - val_loss: 0.2553 - val_mean_absolute_error: 0.2553 - 116ms/epoch - 3ms/step\n",
      "Epoch 18/100\n",
      "37/37 - 0s - loss: 0.0963 - mean_absolute_error: 0.0963 - val_loss: 0.2605 - val_mean_absolute_error: 0.2605 - 118ms/epoch - 3ms/step\n",
      "Epoch 19/100\n",
      "37/37 - 0s - loss: 0.0972 - mean_absolute_error: 0.0972 - val_loss: 0.2532 - val_mean_absolute_error: 0.2532 - 112ms/epoch - 3ms/step\n",
      "Epoch 20/100\n",
      "37/37 - 0s - loss: 0.0867 - mean_absolute_error: 0.0867 - val_loss: 0.2569 - val_mean_absolute_error: 0.2569 - 140ms/epoch - 4ms/step\n",
      "Epoch 21/100\n",
      "37/37 - 0s - loss: 0.0818 - mean_absolute_error: 0.0818 - val_loss: 0.2642 - val_mean_absolute_error: 0.2642 - 136ms/epoch - 4ms/step\n",
      "Epoch 22/100\n",
      "37/37 - 0s - loss: 0.0815 - mean_absolute_error: 0.0815 - val_loss: 0.2635 - val_mean_absolute_error: 0.2635 - 138ms/epoch - 4ms/step\n",
      "Epoch 23/100\n",
      "37/37 - 0s - loss: 0.0842 - mean_absolute_error: 0.0842 - val_loss: 0.2521 - val_mean_absolute_error: 0.2521 - 143ms/epoch - 4ms/step\n",
      "Epoch 24/100\n",
      "37/37 - 0s - loss: 0.0798 - mean_absolute_error: 0.0798 - val_loss: 0.2601 - val_mean_absolute_error: 0.2601 - 155ms/epoch - 4ms/step\n",
      "Epoch 25/100\n",
      "37/37 - 0s - loss: 0.0764 - mean_absolute_error: 0.0764 - val_loss: 0.2546 - val_mean_absolute_error: 0.2546 - 156ms/epoch - 4ms/step\n",
      "Epoch 26/100\n",
      "37/37 - 0s - loss: 0.0774 - mean_absolute_error: 0.0774 - val_loss: 0.2614 - val_mean_absolute_error: 0.2614 - 129ms/epoch - 3ms/step\n",
      "Epoch 27/100\n",
      "37/37 - 0s - loss: 0.0689 - mean_absolute_error: 0.0689 - val_loss: 0.2636 - val_mean_absolute_error: 0.2636 - 139ms/epoch - 4ms/step\n",
      "Epoch 28/100\n",
      "37/37 - 0s - loss: 0.0704 - mean_absolute_error: 0.0704 - val_loss: 0.2590 - val_mean_absolute_error: 0.2590 - 175ms/epoch - 5ms/step\n",
      "Epoch 29/100\n",
      "37/37 - 0s - loss: 0.0650 - mean_absolute_error: 0.0650 - val_loss: 0.2706 - val_mean_absolute_error: 0.2706 - 324ms/epoch - 9ms/step\n",
      "Epoch 30/100\n",
      "37/37 - 0s - loss: 0.0666 - mean_absolute_error: 0.0666 - val_loss: 0.2695 - val_mean_absolute_error: 0.2695 - 151ms/epoch - 4ms/step\n",
      "Epoch 31/100\n",
      "37/37 - 0s - loss: 0.0710 - mean_absolute_error: 0.0710 - val_loss: 0.2563 - val_mean_absolute_error: 0.2563 - 150ms/epoch - 4ms/step\n",
      "Epoch 32/100\n",
      "37/37 - 0s - loss: 0.0724 - mean_absolute_error: 0.0724 - val_loss: 0.2658 - val_mean_absolute_error: 0.2658 - 166ms/epoch - 4ms/step\n",
      "Epoch 33/100\n",
      "37/37 - 0s - loss: 0.0747 - mean_absolute_error: 0.0747 - val_loss: 0.2586 - val_mean_absolute_error: 0.2586 - 170ms/epoch - 5ms/step\n",
      "Epoch 34/100\n",
      "37/37 - 0s - loss: 0.0674 - mean_absolute_error: 0.0674 - val_loss: 0.2683 - val_mean_absolute_error: 0.2683 - 174ms/epoch - 5ms/step\n",
      "Epoch 35/100\n",
      "37/37 - 0s - loss: 0.0649 - mean_absolute_error: 0.0649 - val_loss: 0.2640 - val_mean_absolute_error: 0.2640 - 148ms/epoch - 4ms/step\n",
      "Epoch 36/100\n",
      "37/37 - 0s - loss: 0.0698 - mean_absolute_error: 0.0698 - val_loss: 0.2578 - val_mean_absolute_error: 0.2578 - 164ms/epoch - 4ms/step\n",
      "Epoch 37/100\n",
      "37/37 - 0s - loss: 0.0734 - mean_absolute_error: 0.0734 - val_loss: 0.2715 - val_mean_absolute_error: 0.2715 - 152ms/epoch - 4ms/step\n",
      "Epoch 38/100\n",
      "37/37 - 0s - loss: 0.0621 - mean_absolute_error: 0.0621 - val_loss: 0.2644 - val_mean_absolute_error: 0.2644 - 166ms/epoch - 4ms/step\n",
      "Epoch 39/100\n",
      "37/37 - 0s - loss: 0.0606 - mean_absolute_error: 0.0606 - val_loss: 0.2616 - val_mean_absolute_error: 0.2616 - 170ms/epoch - 5ms/step\n",
      "Epoch 40/100\n",
      "37/37 - 0s - loss: 0.0613 - mean_absolute_error: 0.0613 - val_loss: 0.2562 - val_mean_absolute_error: 0.2562 - 163ms/epoch - 4ms/step\n",
      "Epoch 41/100\n",
      "37/37 - 0s - loss: 0.0587 - mean_absolute_error: 0.0587 - val_loss: 0.2569 - val_mean_absolute_error: 0.2569 - 175ms/epoch - 5ms/step\n",
      "Epoch 42/100\n",
      "37/37 - 0s - loss: 0.0537 - mean_absolute_error: 0.0537 - val_loss: 0.2513 - val_mean_absolute_error: 0.2513 - 162ms/epoch - 4ms/step\n",
      "Epoch 43/100\n",
      "37/37 - 0s - loss: 0.0620 - mean_absolute_error: 0.0620 - val_loss: 0.2641 - val_mean_absolute_error: 0.2641 - 166ms/epoch - 4ms/step\n",
      "Epoch 44/100\n",
      "37/37 - 0s - loss: 0.0665 - mean_absolute_error: 0.0665 - val_loss: 0.2713 - val_mean_absolute_error: 0.2713 - 172ms/epoch - 5ms/step\n",
      "Epoch 45/100\n",
      "37/37 - 0s - loss: 0.0647 - mean_absolute_error: 0.0647 - val_loss: 0.2664 - val_mean_absolute_error: 0.2664 - 157ms/epoch - 4ms/step\n",
      "Epoch 46/100\n",
      "37/37 - 0s - loss: 0.0542 - mean_absolute_error: 0.0542 - val_loss: 0.2726 - val_mean_absolute_error: 0.2726 - 237ms/epoch - 6ms/step\n",
      "Epoch 47/100\n",
      "37/37 - 0s - loss: 0.0511 - mean_absolute_error: 0.0511 - val_loss: 0.2592 - val_mean_absolute_error: 0.2592 - 157ms/epoch - 4ms/step\n",
      "Epoch 48/100\n",
      "37/37 - 0s - loss: 0.0474 - mean_absolute_error: 0.0474 - val_loss: 0.2691 - val_mean_absolute_error: 0.2691 - 198ms/epoch - 5ms/step\n",
      "Epoch 49/100\n",
      "37/37 - 0s - loss: 0.0526 - mean_absolute_error: 0.0526 - val_loss: 0.2642 - val_mean_absolute_error: 0.2642 - 153ms/epoch - 4ms/step\n",
      "Epoch 50/100\n",
      "37/37 - 0s - loss: 0.0497 - mean_absolute_error: 0.0497 - val_loss: 0.2778 - val_mean_absolute_error: 0.2778 - 158ms/epoch - 4ms/step\n",
      "Epoch 51/100\n",
      "37/37 - 0s - loss: 0.0559 - mean_absolute_error: 0.0559 - val_loss: 0.2619 - val_mean_absolute_error: 0.2619 - 156ms/epoch - 4ms/step\n",
      "Epoch 52/100\n",
      "37/37 - 0s - loss: 0.0564 - mean_absolute_error: 0.0564 - val_loss: 0.2553 - val_mean_absolute_error: 0.2553 - 170ms/epoch - 5ms/step\n",
      "Epoch 53/100\n",
      "37/37 - 0s - loss: 0.0535 - mean_absolute_error: 0.0535 - val_loss: 0.2681 - val_mean_absolute_error: 0.2681 - 170ms/epoch - 5ms/step\n",
      "Epoch 54/100\n",
      "37/37 - 0s - loss: 0.0558 - mean_absolute_error: 0.0558 - val_loss: 0.2648 - val_mean_absolute_error: 0.2648 - 156ms/epoch - 4ms/step\n",
      "Epoch 55/100\n",
      "37/37 - 0s - loss: 0.0576 - mean_absolute_error: 0.0576 - val_loss: 0.2738 - val_mean_absolute_error: 0.2738 - 156ms/epoch - 4ms/step\n",
      "Epoch 56/100\n",
      "37/37 - 0s - loss: 0.0533 - mean_absolute_error: 0.0533 - val_loss: 0.2646 - val_mean_absolute_error: 0.2646 - 170ms/epoch - 5ms/step\n",
      "Epoch 57/100\n",
      "37/37 - 0s - loss: 0.0528 - mean_absolute_error: 0.0528 - val_loss: 0.2617 - val_mean_absolute_error: 0.2617 - 158ms/epoch - 4ms/step\n",
      "Epoch 58/100\n",
      "37/37 - 0s - loss: 0.0467 - mean_absolute_error: 0.0467 - val_loss: 0.2628 - val_mean_absolute_error: 0.2628 - 165ms/epoch - 4ms/step\n",
      "Epoch 59/100\n",
      "37/37 - 0s - loss: 0.0490 - mean_absolute_error: 0.0490 - val_loss: 0.2585 - val_mean_absolute_error: 0.2585 - 169ms/epoch - 5ms/step\n",
      "Epoch 60/100\n",
      "37/37 - 0s - loss: 0.0486 - mean_absolute_error: 0.0486 - val_loss: 0.2581 - val_mean_absolute_error: 0.2581 - 156ms/epoch - 4ms/step\n",
      "Epoch 61/100\n",
      "37/37 - 0s - loss: 0.0448 - mean_absolute_error: 0.0448 - val_loss: 0.2677 - val_mean_absolute_error: 0.2677 - 186ms/epoch - 5ms/step\n",
      "Epoch 62/100\n",
      "37/37 - 0s - loss: 0.0491 - mean_absolute_error: 0.0491 - val_loss: 0.2655 - val_mean_absolute_error: 0.2655 - 169ms/epoch - 5ms/step\n",
      "Epoch 63/100\n",
      "37/37 - 0s - loss: 0.0493 - mean_absolute_error: 0.0493 - val_loss: 0.2632 - val_mean_absolute_error: 0.2632 - 151ms/epoch - 4ms/step\n",
      "Epoch 64/100\n",
      "37/37 - 0s - loss: 0.0472 - mean_absolute_error: 0.0472 - val_loss: 0.2584 - val_mean_absolute_error: 0.2584 - 158ms/epoch - 4ms/step\n",
      "Epoch 65/100\n",
      "37/37 - 0s - loss: 0.0458 - mean_absolute_error: 0.0458 - val_loss: 0.2659 - val_mean_absolute_error: 0.2659 - 170ms/epoch - 5ms/step\n",
      "Epoch 66/100\n",
      "37/37 - 0s - loss: 0.0494 - mean_absolute_error: 0.0494 - val_loss: 0.2610 - val_mean_absolute_error: 0.2610 - 156ms/epoch - 4ms/step\n",
      "Epoch 67/100\n",
      "37/37 - 0s - loss: 0.0517 - mean_absolute_error: 0.0517 - val_loss: 0.2528 - val_mean_absolute_error: 0.2528 - 157ms/epoch - 4ms/step\n",
      "Epoch 68/100\n",
      "37/37 - 0s - loss: 0.0428 - mean_absolute_error: 0.0428 - val_loss: 0.2614 - val_mean_absolute_error: 0.2614 - 137ms/epoch - 4ms/step\n",
      "Epoch 69/100\n",
      "37/37 - 0s - loss: 0.0479 - mean_absolute_error: 0.0479 - val_loss: 0.2621 - val_mean_absolute_error: 0.2621 - 145ms/epoch - 4ms/step\n",
      "Epoch 70/100\n",
      "37/37 - 0s - loss: 0.0436 - mean_absolute_error: 0.0436 - val_loss: 0.2647 - val_mean_absolute_error: 0.2647 - 158ms/epoch - 4ms/step\n",
      "Epoch 71/100\n",
      "37/37 - 0s - loss: 0.0465 - mean_absolute_error: 0.0465 - val_loss: 0.2564 - val_mean_absolute_error: 0.2564 - 138ms/epoch - 4ms/step\n",
      "Epoch 72/100\n",
      "37/37 - 0s - loss: 0.0455 - mean_absolute_error: 0.0455 - val_loss: 0.2607 - val_mean_absolute_error: 0.2607 - 140ms/epoch - 4ms/step\n",
      "Epoch 73/100\n",
      "37/37 - 0s - loss: 0.0507 - mean_absolute_error: 0.0507 - val_loss: 0.2569 - val_mean_absolute_error: 0.2569 - 135ms/epoch - 4ms/step\n",
      "Epoch 74/100\n",
      "37/37 - 0s - loss: 0.0461 - mean_absolute_error: 0.0461 - val_loss: 0.2601 - val_mean_absolute_error: 0.2601 - 153ms/epoch - 4ms/step\n",
      "Epoch 75/100\n",
      "37/37 - 0s - loss: 0.0495 - mean_absolute_error: 0.0495 - val_loss: 0.2760 - val_mean_absolute_error: 0.2760 - 139ms/epoch - 4ms/step\n",
      "Epoch 76/100\n",
      "37/37 - 0s - loss: 0.0445 - mean_absolute_error: 0.0445 - val_loss: 0.2655 - val_mean_absolute_error: 0.2655 - 155ms/epoch - 4ms/step\n",
      "Epoch 77/100\n",
      "37/37 - 0s - loss: 0.0461 - mean_absolute_error: 0.0461 - val_loss: 0.2638 - val_mean_absolute_error: 0.2638 - 148ms/epoch - 4ms/step\n",
      "Epoch 78/100\n",
      "37/37 - 0s - loss: 0.0442 - mean_absolute_error: 0.0442 - val_loss: 0.2597 - val_mean_absolute_error: 0.2597 - 140ms/epoch - 4ms/step\n",
      "Epoch 79/100\n",
      "37/37 - 0s - loss: 0.0398 - mean_absolute_error: 0.0398 - val_loss: 0.2542 - val_mean_absolute_error: 0.2542 - 146ms/epoch - 4ms/step\n",
      "Epoch 80/100\n",
      "37/37 - 0s - loss: 0.0425 - mean_absolute_error: 0.0425 - val_loss: 0.2574 - val_mean_absolute_error: 0.2574 - 152ms/epoch - 4ms/step\n",
      "Epoch 81/100\n",
      "37/37 - 0s - loss: 0.0516 - mean_absolute_error: 0.0516 - val_loss: 0.2723 - val_mean_absolute_error: 0.2723 - 174ms/epoch - 5ms/step\n",
      "Epoch 82/100\n",
      "37/37 - 0s - loss: 0.0548 - mean_absolute_error: 0.0548 - val_loss: 0.2810 - val_mean_absolute_error: 0.2810 - 210ms/epoch - 6ms/step\n",
      "Epoch 83/100\n",
      "37/37 - 0s - loss: 0.0522 - mean_absolute_error: 0.0522 - val_loss: 0.2593 - val_mean_absolute_error: 0.2593 - 161ms/epoch - 4ms/step\n",
      "Epoch 84/100\n",
      "37/37 - 0s - loss: 0.0394 - mean_absolute_error: 0.0394 - val_loss: 0.2572 - val_mean_absolute_error: 0.2572 - 167ms/epoch - 5ms/step\n",
      "Epoch 85/100\n",
      "37/37 - 0s - loss: 0.0405 - mean_absolute_error: 0.0405 - val_loss: 0.2606 - val_mean_absolute_error: 0.2606 - 176ms/epoch - 5ms/step\n",
      "Epoch 86/100\n",
      "37/37 - 0s - loss: 0.0432 - mean_absolute_error: 0.0432 - val_loss: 0.2592 - val_mean_absolute_error: 0.2592 - 156ms/epoch - 4ms/step\n",
      "Epoch 87/100\n",
      "37/37 - 0s - loss: 0.0383 - mean_absolute_error: 0.0383 - val_loss: 0.2585 - val_mean_absolute_error: 0.2585 - 162ms/epoch - 4ms/step\n",
      "Epoch 88/100\n",
      "37/37 - 0s - loss: 0.0425 - mean_absolute_error: 0.0425 - val_loss: 0.2585 - val_mean_absolute_error: 0.2585 - 172ms/epoch - 5ms/step\n",
      "Epoch 89/100\n",
      "37/37 - 0s - loss: 0.0414 - mean_absolute_error: 0.0414 - val_loss: 0.2629 - val_mean_absolute_error: 0.2629 - 177ms/epoch - 5ms/step\n",
      "Epoch 90/100\n",
      "37/37 - 0s - loss: 0.0490 - mean_absolute_error: 0.0490 - val_loss: 0.2755 - val_mean_absolute_error: 0.2755 - 159ms/epoch - 4ms/step\n",
      "Epoch 91/100\n",
      "37/37 - 0s - loss: 0.0498 - mean_absolute_error: 0.0498 - val_loss: 0.2616 - val_mean_absolute_error: 0.2616 - 178ms/epoch - 5ms/step\n",
      "Epoch 92/100\n",
      "37/37 - 0s - loss: 0.0415 - mean_absolute_error: 0.0415 - val_loss: 0.2609 - val_mean_absolute_error: 0.2609 - 154ms/epoch - 4ms/step\n",
      "Epoch 93/100\n",
      "37/37 - 0s - loss: 0.0433 - mean_absolute_error: 0.0433 - val_loss: 0.2678 - val_mean_absolute_error: 0.2678 - 163ms/epoch - 4ms/step\n",
      "Epoch 94/100\n",
      "37/37 - 0s - loss: 0.0427 - mean_absolute_error: 0.0427 - val_loss: 0.2534 - val_mean_absolute_error: 0.2534 - 153ms/epoch - 4ms/step\n",
      "Epoch 95/100\n",
      "37/37 - 0s - loss: 0.0399 - mean_absolute_error: 0.0399 - val_loss: 0.2642 - val_mean_absolute_error: 0.2642 - 180ms/epoch - 5ms/step\n",
      "Epoch 96/100\n",
      "37/37 - 0s - loss: 0.0389 - mean_absolute_error: 0.0389 - val_loss: 0.2584 - val_mean_absolute_error: 0.2584 - 162ms/epoch - 4ms/step\n",
      "Epoch 97/100\n",
      "37/37 - 0s - loss: 0.0394 - mean_absolute_error: 0.0394 - val_loss: 0.2573 - val_mean_absolute_error: 0.2573 - 160ms/epoch - 4ms/step\n",
      "Epoch 98/100\n",
      "37/37 - 0s - loss: 0.0369 - mean_absolute_error: 0.0369 - val_loss: 0.2622 - val_mean_absolute_error: 0.2622 - 158ms/epoch - 4ms/step\n",
      "Epoch 99/100\n",
      "37/37 - 0s - loss: 0.0426 - mean_absolute_error: 0.0426 - val_loss: 0.2609 - val_mean_absolute_error: 0.2609 - 167ms/epoch - 5ms/step\n",
      "Epoch 100/100\n",
      "37/37 - 0s - loss: 0.0418 - mean_absolute_error: 0.0418 - val_loss: 0.2634 - val_mean_absolute_error: 0.2634 - 163ms/epoch - 4ms/step\n"
     ]
    },
    {
     "data": {
      "text/plain": [
       "<keras.callbacks.History at 0x1bbaff3ceb0>"
      ]
     },
     "execution_count": 113,
     "metadata": {},
     "output_type": "execute_result"
    }
   ],
   "source": [
    "model.fit(X_train,y_train,validation_data=(X_val,y_val),epochs=100,verbose=2)"
   ]
  },
  {
   "cell_type": "code",
   "execution_count": 114,
   "metadata": {},
   "outputs": [
    {
     "name": "stdout",
     "output_type": "stream",
     "text": [
      "5/5 [==============================] - 0s 2ms/step\n",
      "(146,)\n",
      "(146,)\n",
      "0.20734558475680614\n"
     ]
    }
   ],
   "source": [
    "t1=y_test\n",
    "t1=t1.reshape(len(t1))\n",
    "t2=model.predict(X_test).flatten()\n",
    "t2=t2.reshape(len(t2))\n",
    "print(t1.shape)\n",
    "print(t2.shape)\n",
    "sum=0\n",
    "for i in range(146):\n",
    "    sum+=abs(t1[i]-t2[i])\n",
    "print(sum/146)"
   ]
  },
  {
   "cell_type": "code",
   "execution_count": 115,
   "metadata": {},
   "outputs": [
    {
     "name": "stdout",
     "output_type": "stream",
     "text": [
      "5/5 [==============================] - 0s 2ms/step\n"
     ]
    },
    {
     "data": {
      "text/plain": [
       "[<matplotlib.lines.Line2D at 0x1bbb73ec100>]"
      ]
     },
     "execution_count": 115,
     "metadata": {},
     "output_type": "execute_result"
    },
    {
     "data": {
      "image/png": "[encoded data removed]",
      "text/plain": [
       "<Figure size 640x480 with 1 Axes>"
      ]
     },
     "metadata": {},
     "output_type": "display_data"
    }
   ],
   "source": [
    "pred=model.predict(X_test).flatten()\n",
    "plt.plot(y_test)\n",
    "plt.plot(pred)"
   ]
  },
  {
   "cell_type": "code",
   "execution_count": 116,
   "metadata": {},
   "outputs": [
    {
     "name": "stdout",
     "output_type": "stream",
     "text": [
      "46/46 [==============================] - 0s 2ms/step\n"
     ]
    }
   ],
   "source": [
    "pred=model.predict(final_test)"
   ]
  },
  {
   "cell_type": "code",
   "execution_count": 117,
   "metadata": {},
   "outputs": [
    {
     "data": {
      "text/plain": [
       "(1459, 1)"
      ]
     },
     "execution_count": 117,
     "metadata": {},
     "output_type": "execute_result"
    }
   ],
   "source": [
    "pred.shape"
   ]
  },
  {
   "cell_type": "code",
   "execution_count": 118,
   "metadata": {},
   "outputs": [],
   "source": [
    "pred=pred.reshape(len(pred),1)\n",
    "p=sc.inverse_transform(pred)"
   ]
  },
  {
   "cell_type": "code",
   "execution_count": 119,
   "metadata": {},
   "outputs": [
    {
     "data": {
      "text/plain": [
       "array([[114956.88],\n",
       "       [155954.3 ],\n",
       "       [189812.14],\n",
       "       ...,\n",
       "       [184417.8 ],\n",
       "       [141084.88],\n",
       "       [236738.95]], dtype=float32)"
      ]
     },
     "execution_count": 119,
     "metadata": {},
     "output_type": "execute_result"
    }
   ],
   "source": [
    "p"
   ]
  },
  {
   "cell_type": "code",
   "execution_count": 32,
   "metadata": {},
   "outputs": [],
   "source": [
    "# final_submit_id=final_submit_id.to_numpy()\n",
    "# final_submit_id=final_submit_id.reshape(len(final_submit_id))\n",
    "# print(final_submit_id.shape)"
   ]
  },
  {
   "cell_type": "code",
   "execution_count": 120,
   "metadata": {},
   "outputs": [
    {
     "data": {
      "text/plain": [
       "(1168, 1)"
      ]
     },
     "execution_count": 120,
     "metadata": {},
     "output_type": "execute_result"
    }
   ],
   "source": [
    "y_train.shape"
   ]
  },
  {
   "cell_type": "code",
   "execution_count": 56,
   "metadata": {},
   "outputs": [],
   "source": [
    "# from sklearn.linear_model import LogisticRegression\n",
    "# from sklearn import metrics\n",
    "# logreg=LogisticRegression(max_iter=1000)\n",
    "\n",
    "# from sklearn.model_selection import train_test_split\n",
    "# x=train_df\n",
    "# y=temp\n",
    "# x_train,x_test,y_train,y_test=train_test_split(x,y,train_size=0.8,test_size=0.2,random_state=42)\n",
    "\n",
    "# logreg.fit(x_train,y_train)"
   ]
  },
  {
   "cell_type": "code",
   "execution_count": 57,
   "metadata": {},
   "outputs": [],
   "source": [
    "# pred=logreg.predict(test_df)"
   ]
  },
  {
   "cell_type": "code",
   "execution_count": 36,
   "metadata": {},
   "outputs": [],
   "source": [
    "# pred\n",
    "# p=pred"
   ]
  },
  {
   "cell_type": "code",
   "execution_count": 121,
   "metadata": {},
   "outputs": [
    {
     "name": "stdout",
     "output_type": "stream",
     "text": [
      "(1459,)\n"
     ]
    }
   ],
   "source": [
    "p=p.reshape(len(p))\n",
    "print(p.shape)"
   ]
  },
  {
   "cell_type": "code",
   "execution_count": 122,
   "metadata": {},
   "outputs": [
    {
     "data": {
      "text/html": [
       "<div>\n",
       "<style scoped>\n",
       "    .dataframe tbody tr th:only-of-type {\n",
       "        vertical-align: middle;\n",
       "    }\n",
       "\n",
       "    .dataframe tbody tr th {\n",
       "        vertical-align: top;\n",
       "    }\n",
       "\n",
       "    .dataframe thead th {\n",
       "        text-align: right;\n",
       "    }\n",
       "</style>\n",
       "<table border=\"1\" class=\"dataframe\">\n",
       "  <thead>\n",
       "    <tr style=\"text-align: right;\">\n",
       "      <th></th>\n",
       "      <th>Id</th>\n",
       "      <th>SalePrice</th>\n",
       "    </tr>\n",
       "  </thead>\n",
       "  <tbody>\n",
       "    <tr>\n",
       "      <th>0</th>\n",
       "      <td>1461</td>\n",
       "      <td>114956.882812</td>\n",
       "    </tr>\n",
       "    <tr>\n",
       "      <th>1</th>\n",
       "      <td>1462</td>\n",
       "      <td>155954.296875</td>\n",
       "    </tr>\n",
       "    <tr>\n",
       "      <th>2</th>\n",
       "      <td>1463</td>\n",
       "      <td>189812.140625</td>\n",
       "    </tr>\n",
       "    <tr>\n",
       "      <th>3</th>\n",
       "      <td>1464</td>\n",
       "      <td>191394.875000</td>\n",
       "    </tr>\n",
       "    <tr>\n",
       "      <th>4</th>\n",
       "      <td>1465</td>\n",
       "      <td>180777.703125</td>\n",
       "    </tr>\n",
       "  </tbody>\n",
       "</table>\n",
       "</div>"
      ],
      "text/plain": [
       "     Id      SalePrice\n",
       "0  1461  114956.882812\n",
       "1  1462  155954.296875\n",
       "2  1463  189812.140625\n",
       "3  1464  191394.875000\n",
       "4  1465  180777.703125"
      ]
     },
     "execution_count": 122,
     "metadata": {},
     "output_type": "execute_result"
    }
   ],
   "source": [
    "dict={'Id':final_submit_id,'SalePrice':p}\n",
    "df=pd.DataFrame(dict)\n",
    "df.head()"
   ]
  },
  {
   "cell_type": "code",
   "execution_count": 123,
   "metadata": {},
   "outputs": [],
   "source": [
    "df.to_csv('submit.csv',index=False)"
   ]
  },
  {
   "cell_type": "code",
   "execution_count": null,
   "metadata": {},
   "outputs": [],
   "source": []
  }
 ],
 "metadata": {
  "kernelspec": {
   "display_name": "base",
   "language": "python",
   "name": "python3"
  },
  "language_info": {
   "codemirror_mode": {
    "name": "ipython",
    "version": 3
   },
   "file_extension": ".py",
   "mimetype": "text/x-python",
   "name": "python",
   "nbconvert_exporter": "python",
   "pygments_lexer": "ipython3",
   "version": "3.9.13"
  },
  "orig_nbformat": 4
 },
 "nbformat": 4,
 "nbformat_minor": 2
}
