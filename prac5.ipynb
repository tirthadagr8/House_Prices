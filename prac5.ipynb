{
 "cells": [
  {
   "cell_type": "code",
   "execution_count": 96,
   "metadata": {},
   "outputs": [],
   "source": [
    "import tensorflow as tf\n",
    "from tensorflow import keras\n",
    "import numpy as np\n",
    "import pandas as pd\n",
    "import seaborn as sns\n",
    "import matplotlib.pyplot as plt\n",
    "from tensorflow.keras.models import Sequential\n",
    "from tensorflow.keras.layers import Activation, Dense, Flatten, Conv2D,MaxPool2D,Dropout, Normalization\n",
    "from tensorflow.keras.optimizers import Adam\n",
    "from tensorflow.keras.metrics import categorical_crossentropy,sparse_categorical_crossentropy\n",
    "from tensorflow.keras.preprocessing.image import ImageDataGenerator\n",
    "from sklearn.metrics import confusion_matrix\n",
    "from sklearn.preprocessing import LabelEncoder\n",
    "from sklearn.preprocessing import StandardScaler\n",
    "import os\n",
    "import glob\n",
    "import shutil\n",
    "import random\n",
    "from keras.models import Model\n",
    "import pickle\n",
    "from keras.applications.vgg16 import VGG16\n",
    "from keras.applications.vgg16 import preprocess_input"
   ]
  },
  {
   "cell_type": "code",
   "execution_count": 97,
   "metadata": {},
   "outputs": [],
   "source": [
    "data=pd.read_csv('train.csv')\n",
    "test=pd.read_csv('test.csv')"
   ]
  },
  {
   "cell_type": "code",
   "execution_count": 98,
   "metadata": {},
   "outputs": [],
   "source": [
    "final_submit_id=test['Id']"
   ]
  },
  {
   "cell_type": "code",
   "execution_count": 99,
   "metadata": {},
   "outputs": [
    {
     "data": {
      "text/html": [
       "<div>\n",
       "<style scoped>\n",
       "    .dataframe tbody tr th:only-of-type {\n",
       "        vertical-align: middle;\n",
       "    }\n",
       "\n",
       "    .dataframe tbody tr th {\n",
       "        vertical-align: top;\n",
       "    }\n",
       "\n",
       "    .dataframe thead th {\n",
       "        text-align: right;\n",
       "    }\n",
       "</style>\n",
       "<table border=\"1\" class=\"dataframe\">\n",
       "  <thead>\n",
       "    <tr style=\"text-align: right;\">\n",
       "      <th></th>\n",
       "      <th>Id</th>\n",
       "      <th>MSSubClass</th>\n",
       "      <th>MSZoning</th>\n",
       "      <th>LotFrontage</th>\n",
       "      <th>LotArea</th>\n",
       "      <th>Street</th>\n",
       "      <th>Alley</th>\n",
       "      <th>LotShape</th>\n",
       "      <th>LandContour</th>\n",
       "      <th>Utilities</th>\n",
       "      <th>...</th>\n",
       "      <th>PoolArea</th>\n",
       "      <th>PoolQC</th>\n",
       "      <th>Fence</th>\n",
       "      <th>MiscFeature</th>\n",
       "      <th>MiscVal</th>\n",
       "      <th>MoSold</th>\n",
       "      <th>YrSold</th>\n",
       "      <th>SaleType</th>\n",
       "      <th>SaleCondition</th>\n",
       "      <th>SalePrice</th>\n",
       "    </tr>\n",
       "  </thead>\n",
       "  <tbody>\n",
       "    <tr>\n",
       "      <th>0</th>\n",
       "      <td>1</td>\n",
       "      <td>60</td>\n",
       "      <td>RL</td>\n",
       "      <td>65.0</td>\n",
       "      <td>8450</td>\n",
       "      <td>Pave</td>\n",
       "      <td>NaN</td>\n",
       "      <td>Reg</td>\n",
       "      <td>Lvl</td>\n",
       "      <td>AllPub</td>\n",
       "      <td>...</td>\n",
       "      <td>0</td>\n",
       "      <td>NaN</td>\n",
       "      <td>NaN</td>\n",
       "      <td>NaN</td>\n",
       "      <td>0</td>\n",
       "      <td>2</td>\n",
       "      <td>2008</td>\n",
       "      <td>WD</td>\n",
       "      <td>Normal</td>\n",
       "      <td>208500</td>\n",
       "    </tr>\n",
       "    <tr>\n",
       "      <th>1</th>\n",
       "      <td>2</td>\n",
       "      <td>20</td>\n",
       "      <td>RL</td>\n",
       "      <td>80.0</td>\n",
       "      <td>9600</td>\n",
       "      <td>Pave</td>\n",
       "      <td>NaN</td>\n",
       "      <td>Reg</td>\n",
       "      <td>Lvl</td>\n",
       "      <td>AllPub</td>\n",
       "      <td>...</td>\n",
       "      <td>0</td>\n",
       "      <td>NaN</td>\n",
       "      <td>NaN</td>\n",
       "      <td>NaN</td>\n",
       "      <td>0</td>\n",
       "      <td>5</td>\n",
       "      <td>2007</td>\n",
       "      <td>WD</td>\n",
       "      <td>Normal</td>\n",
       "      <td>181500</td>\n",
       "    </tr>\n",
       "    <tr>\n",
       "      <th>2</th>\n",
       "      <td>3</td>\n",
       "      <td>60</td>\n",
       "      <td>RL</td>\n",
       "      <td>68.0</td>\n",
       "      <td>11250</td>\n",
       "      <td>Pave</td>\n",
       "      <td>NaN</td>\n",
       "      <td>IR1</td>\n",
       "      <td>Lvl</td>\n",
       "      <td>AllPub</td>\n",
       "      <td>...</td>\n",
       "      <td>0</td>\n",
       "      <td>NaN</td>\n",
       "      <td>NaN</td>\n",
       "      <td>NaN</td>\n",
       "      <td>0</td>\n",
       "      <td>9</td>\n",
       "      <td>2008</td>\n",
       "      <td>WD</td>\n",
       "      <td>Normal</td>\n",
       "      <td>223500</td>\n",
       "    </tr>\n",
       "    <tr>\n",
       "      <th>3</th>\n",
       "      <td>4</td>\n",
       "      <td>70</td>\n",
       "      <td>RL</td>\n",
       "      <td>60.0</td>\n",
       "      <td>9550</td>\n",
       "      <td>Pave</td>\n",
       "      <td>NaN</td>\n",
       "      <td>IR1</td>\n",
       "      <td>Lvl</td>\n",
       "      <td>AllPub</td>\n",
       "      <td>...</td>\n",
       "      <td>0</td>\n",
       "      <td>NaN</td>\n",
       "      <td>NaN</td>\n",
       "      <td>NaN</td>\n",
       "      <td>0</td>\n",
       "      <td>2</td>\n",
       "      <td>2006</td>\n",
       "      <td>WD</td>\n",
       "      <td>Abnorml</td>\n",
       "      <td>140000</td>\n",
       "    </tr>\n",
       "    <tr>\n",
       "      <th>4</th>\n",
       "      <td>5</td>\n",
       "      <td>60</td>\n",
       "      <td>RL</td>\n",
       "      <td>84.0</td>\n",
       "      <td>14260</td>\n",
       "      <td>Pave</td>\n",
       "      <td>NaN</td>\n",
       "      <td>IR1</td>\n",
       "      <td>Lvl</td>\n",
       "      <td>AllPub</td>\n",
       "      <td>...</td>\n",
       "      <td>0</td>\n",
       "      <td>NaN</td>\n",
       "      <td>NaN</td>\n",
       "      <td>NaN</td>\n",
       "      <td>0</td>\n",
       "      <td>12</td>\n",
       "      <td>2008</td>\n",
       "      <td>WD</td>\n",
       "      <td>Normal</td>\n",
       "      <td>250000</td>\n",
       "    </tr>\n",
       "  </tbody>\n",
       "</table>\n",
       "<p>5 rows × 81 columns</p>\n",
       "</div>"
      ],
      "text/plain": [
       "   Id  MSSubClass MSZoning  LotFrontage  LotArea Street Alley LotShape  \\\n",
       "0   1          60       RL         65.0     8450   Pave   NaN      Reg   \n",
       "1   2          20       RL         80.0     9600   Pave   NaN      Reg   \n",
       "2   3          60       RL         68.0    11250   Pave   NaN      IR1   \n",
       "3   4          70       RL         60.0     9550   Pave   NaN      IR1   \n",
       "4   5          60       RL         84.0    14260   Pave   NaN      IR1   \n",
       "\n",
       "  LandContour Utilities  ... PoolArea PoolQC Fence MiscFeature MiscVal MoSold  \\\n",
       "0         Lvl    AllPub  ...        0    NaN   NaN         NaN       0      2   \n",
       "1         Lvl    AllPub  ...        0    NaN   NaN         NaN       0      5   \n",
       "2         Lvl    AllPub  ...        0    NaN   NaN         NaN       0      9   \n",
       "3         Lvl    AllPub  ...        0    NaN   NaN         NaN       0      2   \n",
       "4         Lvl    AllPub  ...        0    NaN   NaN         NaN       0     12   \n",
       "\n",
       "  YrSold  SaleType  SaleCondition  SalePrice  \n",
       "0   2008        WD         Normal     208500  \n",
       "1   2007        WD         Normal     181500  \n",
       "2   2008        WD         Normal     223500  \n",
       "3   2006        WD        Abnorml     140000  \n",
       "4   2008        WD         Normal     250000  \n",
       "\n",
       "[5 rows x 81 columns]"
      ]
     },
     "execution_count": 99,
     "metadata": {},
     "output_type": "execute_result"
    }
   ],
   "source": [
    "data.head()"
   ]
  },
  {
   "cell_type": "code",
   "execution_count": 100,
   "metadata": {},
   "outputs": [],
   "source": [
    "data.index=data.pop('Id')\n",
    "test.index=test.pop('Id')"
   ]
  },
  {
   "cell_type": "code",
   "execution_count": 101,
   "metadata": {},
   "outputs": [],
   "source": [
    "temp=data['SalePrice']"
   ]
  },
  {
   "cell_type": "code",
   "execution_count": 102,
   "metadata": {},
   "outputs": [
    {
     "data": {
      "text/plain": [
       "<AxesSubplot: ylabel='Id'>"
      ]
     },
     "execution_count": 102,
     "metadata": {},
     "output_type": "execute_result"
    },
    {
     "data": {
      "image/png": "[encoded data removed]",
      "text/plain": [
       "<Figure size 640x480 with 2 Axes>"
      ]
     },
     "metadata": {},
     "output_type": "display_data"
    }
   ],
   "source": [
    "sns.heatmap(data.isnull())"
   ]
  },
  {
   "attachments": {},
   "cell_type": "markdown",
   "metadata": {},
   "source": [
    "1460 no of rows"
   ]
  },
  {
   "cell_type": "code",
   "execution_count": 103,
   "metadata": {},
   "outputs": [],
   "source": [
    "# col=data.columns"
   ]
  },
  {
   "cell_type": "code",
   "execution_count": 104,
   "metadata": {},
   "outputs": [],
   "source": [
    "# for c in col:\n",
    "#     print(c,' ',data[c].isnull().sum())"
   ]
  },
  {
   "cell_type": "code",
   "execution_count": 105,
   "metadata": {},
   "outputs": [],
   "source": [
    "y=data['SalePrice']\n",
    "data=data.drop(['SalePrice'],axis=1)\n",
    "data=data.drop(['Alley','PoolQC','Fence','MiscFeature','FireplaceQu'],axis=1)\n",
    "test=test.drop(['Alley','PoolQC','Fence','MiscFeature','FireplaceQu'],axis=1)\n",
    "col=data.columns"
   ]
  },
  {
   "cell_type": "code",
   "execution_count": 106,
   "metadata": {},
   "outputs": [],
   "source": [
    "y=y.to_numpy()\n",
    "y=y.reshape(len(y),1)"
   ]
  },
  {
   "cell_type": "code",
   "execution_count": 107,
   "metadata": {},
   "outputs": [],
   "source": [
    "tt=y"
   ]
  },
  {
   "cell_type": "code",
   "execution_count": 108,
   "metadata": {},
   "outputs": [],
   "source": [
    "obj=[]\n",
    "num=[]\n",
    "for c in col:\n",
    "    if data[c].dtype=='float64':\n",
    "        num.append(c)\n",
    "    else:\n",
    "        obj.append(c)\n",
    "\n",
    "# for o in obj:\n",
    "#     data[o]=data[o].fillna(\" \")\n",
    "#     test[o]=test[o].fillna(\" \")\n",
    "\n",
    "for o in obj:\n",
    "    le=LabelEncoder()\n",
    "    le.fit(data[o])\n",
    "    temp1=le.transform(data[o])\n",
    "    data[o]=temp1\n",
    "    le=LabelEncoder()\n",
    "    le.fit(test[o])\n",
    "    temp2=le.transform(test[o])\n",
    "    test[o]=temp2\n",
    "\n",
    "for n in num:\n",
    "    data[n]=data[n].fillna(data[n].mean())\n",
    "    test[n]=test[n].fillna(test[n].mean())\n",
    "sc=StandardScaler()\n",
    "columns=data.columns\n",
    "data[columns]=sc.fit_transform(data[columns])\n",
    "test[columns]=sc.fit_transform(test[columns])\n",
    "y=sc.fit_transform(y)"
   ]
  },
  {
   "cell_type": "code",
   "execution_count": 109,
   "metadata": {},
   "outputs": [],
   "source": [
    "train_df=data\n",
    "test_df=test"
   ]
  },
  {
   "cell_type": "code",
   "execution_count": 110,
   "metadata": {},
   "outputs": [
    {
     "data": {
      "text/plain": [
       "array([[ 0.34727322],\n",
       "       [ 0.00728832],\n",
       "       [ 0.53615372],\n",
       "       ...,\n",
       "       [ 1.07761115],\n",
       "       [-0.48852299],\n",
       "       [-0.42084081]])"
      ]
     },
     "execution_count": 110,
     "metadata": {},
     "output_type": "execute_result"
    }
   ],
   "source": [
    "y"
   ]
  },
  {
   "cell_type": "code",
   "execution_count": 111,
   "metadata": {},
   "outputs": [],
   "source": [
    "# y=tt\n",
    "# print(y[0])\n",
    "# y=y.reshape((y.shape[1],1))\n",
    "# y=sc.fit_transform(y)"
   ]
  },
  {
   "cell_type": "code",
   "execution_count": 112,
   "metadata": {},
   "outputs": [],
   "source": [
    "# y"
   ]
  },
  {
   "cell_type": "code",
   "execution_count": 113,
   "metadata": {},
   "outputs": [
    {
     "data": {
      "text/plain": [
       "(1460, 74)"
      ]
     },
     "execution_count": 113,
     "metadata": {},
     "output_type": "execute_result"
    }
   ],
   "source": [
    "data.shape"
   ]
  },
  {
   "cell_type": "code",
   "execution_count": 114,
   "metadata": {},
   "outputs": [
    {
     "data": {
      "text/html": [
       "<div>\n",
       "<style scoped>\n",
       "    .dataframe tbody tr th:only-of-type {\n",
       "        vertical-align: middle;\n",
       "    }\n",
       "\n",
       "    .dataframe tbody tr th {\n",
       "        vertical-align: top;\n",
       "    }\n",
       "\n",
       "    .dataframe thead th {\n",
       "        text-align: right;\n",
       "    }\n",
       "</style>\n",
       "<table border=\"1\" class=\"dataframe\">\n",
       "  <thead>\n",
       "    <tr style=\"text-align: right;\">\n",
       "      <th></th>\n",
       "      <th>MSSubClass</th>\n",
       "      <th>MSZoning</th>\n",
       "      <th>LotFrontage</th>\n",
       "      <th>LotArea</th>\n",
       "      <th>Street</th>\n",
       "      <th>LotShape</th>\n",
       "      <th>LandContour</th>\n",
       "      <th>Utilities</th>\n",
       "      <th>LotConfig</th>\n",
       "      <th>LandSlope</th>\n",
       "      <th>...</th>\n",
       "      <th>OpenPorchSF</th>\n",
       "      <th>EnclosedPorch</th>\n",
       "      <th>3SsnPorch</th>\n",
       "      <th>ScreenPorch</th>\n",
       "      <th>PoolArea</th>\n",
       "      <th>MiscVal</th>\n",
       "      <th>MoSold</th>\n",
       "      <th>YrSold</th>\n",
       "      <th>SaleType</th>\n",
       "      <th>SaleCondition</th>\n",
       "    </tr>\n",
       "    <tr>\n",
       "      <th>Id</th>\n",
       "      <th></th>\n",
       "      <th></th>\n",
       "      <th></th>\n",
       "      <th></th>\n",
       "      <th></th>\n",
       "      <th></th>\n",
       "      <th></th>\n",
       "      <th></th>\n",
       "      <th></th>\n",
       "      <th></th>\n",
       "      <th></th>\n",
       "      <th></th>\n",
       "      <th></th>\n",
       "      <th></th>\n",
       "      <th></th>\n",
       "      <th></th>\n",
       "      <th></th>\n",
       "      <th></th>\n",
       "      <th></th>\n",
       "      <th></th>\n",
       "      <th></th>\n",
       "    </tr>\n",
       "  </thead>\n",
       "  <tbody>\n",
       "    <tr>\n",
       "      <th>1</th>\n",
       "      <td>0.200350</td>\n",
       "      <td>-0.045532</td>\n",
       "      <td>-0.229372</td>\n",
       "      <td>-0.549214</td>\n",
       "      <td>0.064238</td>\n",
       "      <td>0.750731</td>\n",
       "      <td>0.314667</td>\n",
       "      <td>-0.02618</td>\n",
       "      <td>0.604670</td>\n",
       "      <td>-0.225716</td>\n",
       "      <td>...</td>\n",
       "      <td>0.279117</td>\n",
       "      <td>-0.352247</td>\n",
       "      <td>-0.114517</td>\n",
       "      <td>-0.255029</td>\n",
       "      <td>-0.062051</td>\n",
       "      <td>-0.162018</td>\n",
       "      <td>-1.599111</td>\n",
       "      <td>0.138777</td>\n",
       "      <td>0.313867</td>\n",
       "      <td>0.208502</td>\n",
       "    </tr>\n",
       "    <tr>\n",
       "      <th>2</th>\n",
       "      <td>-1.001421</td>\n",
       "      <td>-0.045532</td>\n",
       "      <td>0.451936</td>\n",
       "      <td>0.019617</td>\n",
       "      <td>0.064238</td>\n",
       "      <td>0.750731</td>\n",
       "      <td>0.314667</td>\n",
       "      <td>-0.02618</td>\n",
       "      <td>-0.628316</td>\n",
       "      <td>-0.225716</td>\n",
       "      <td>...</td>\n",
       "      <td>-0.744360</td>\n",
       "      <td>-0.352247</td>\n",
       "      <td>-0.114517</td>\n",
       "      <td>-0.255029</td>\n",
       "      <td>-0.062051</td>\n",
       "      <td>-0.162018</td>\n",
       "      <td>-0.489110</td>\n",
       "      <td>-0.614439</td>\n",
       "      <td>0.313867</td>\n",
       "      <td>0.208502</td>\n",
       "    </tr>\n",
       "    <tr>\n",
       "      <th>3</th>\n",
       "      <td>0.200350</td>\n",
       "      <td>-0.045532</td>\n",
       "      <td>-0.093110</td>\n",
       "      <td>0.698223</td>\n",
       "      <td>0.064238</td>\n",
       "      <td>-1.378933</td>\n",
       "      <td>0.314667</td>\n",
       "      <td>-0.02618</td>\n",
       "      <td>0.604670</td>\n",
       "      <td>-0.225716</td>\n",
       "      <td>...</td>\n",
       "      <td>-0.117741</td>\n",
       "      <td>-0.352247</td>\n",
       "      <td>-0.114517</td>\n",
       "      <td>-0.255029</td>\n",
       "      <td>-0.062051</td>\n",
       "      <td>-0.162018</td>\n",
       "      <td>0.990891</td>\n",
       "      <td>0.138777</td>\n",
       "      <td>0.313867</td>\n",
       "      <td>0.208502</td>\n",
       "    </tr>\n",
       "    <tr>\n",
       "      <th>4</th>\n",
       "      <td>0.440704</td>\n",
       "      <td>-0.045532</td>\n",
       "      <td>-0.456474</td>\n",
       "      <td>-0.010321</td>\n",
       "      <td>0.064238</td>\n",
       "      <td>-1.378933</td>\n",
       "      <td>0.314667</td>\n",
       "      <td>-0.02618</td>\n",
       "      <td>-1.861302</td>\n",
       "      <td>-0.225716</td>\n",
       "      <td>...</td>\n",
       "      <td>-0.243065</td>\n",
       "      <td>4.284008</td>\n",
       "      <td>-0.114517</td>\n",
       "      <td>-0.255029</td>\n",
       "      <td>-0.062051</td>\n",
       "      <td>-0.162018</td>\n",
       "      <td>-1.599111</td>\n",
       "      <td>-1.367655</td>\n",
       "      <td>0.313867</td>\n",
       "      <td>-3.426284</td>\n",
       "    </tr>\n",
       "    <tr>\n",
       "      <th>5</th>\n",
       "      <td>0.200350</td>\n",
       "      <td>-0.045532</td>\n",
       "      <td>0.633618</td>\n",
       "      <td>1.440032</td>\n",
       "      <td>0.064238</td>\n",
       "      <td>-1.378933</td>\n",
       "      <td>0.314667</td>\n",
       "      <td>-0.02618</td>\n",
       "      <td>-0.628316</td>\n",
       "      <td>-0.225716</td>\n",
       "      <td>...</td>\n",
       "      <td>0.717751</td>\n",
       "      <td>-0.352247</td>\n",
       "      <td>-0.114517</td>\n",
       "      <td>-0.255029</td>\n",
       "      <td>-0.062051</td>\n",
       "      <td>-0.162018</td>\n",
       "      <td>2.100892</td>\n",
       "      <td>0.138777</td>\n",
       "      <td>0.313867</td>\n",
       "      <td>0.208502</td>\n",
       "    </tr>\n",
       "  </tbody>\n",
       "</table>\n",
       "<p>5 rows × 74 columns</p>\n",
       "</div>"
      ],
      "text/plain": [
       "    MSSubClass  MSZoning  LotFrontage   LotArea    Street  LotShape  \\\n",
       "Id                                                                    \n",
       "1     0.200350 -0.045532    -0.229372 -0.549214  0.064238  0.750731   \n",
       "2    -1.001421 -0.045532     0.451936  0.019617  0.064238  0.750731   \n",
       "3     0.200350 -0.045532    -0.093110  0.698223  0.064238 -1.378933   \n",
       "4     0.440704 -0.045532    -0.456474 -0.010321  0.064238 -1.378933   \n",
       "5     0.200350 -0.045532     0.633618  1.440032  0.064238 -1.378933   \n",
       "\n",
       "    LandContour  Utilities  LotConfig  LandSlope  ...  OpenPorchSF  \\\n",
       "Id                                                ...                \n",
       "1      0.314667   -0.02618   0.604670  -0.225716  ...     0.279117   \n",
       "2      0.314667   -0.02618  -0.628316  -0.225716  ...    -0.744360   \n",
       "3      0.314667   -0.02618   0.604670  -0.225716  ...    -0.117741   \n",
       "4      0.314667   -0.02618  -1.861302  -0.225716  ...    -0.243065   \n",
       "5      0.314667   -0.02618  -0.628316  -0.225716  ...     0.717751   \n",
       "\n",
       "    EnclosedPorch  3SsnPorch  ScreenPorch  PoolArea   MiscVal    MoSold  \\\n",
       "Id                                                                        \n",
       "1       -0.352247  -0.114517    -0.255029 -0.062051 -0.162018 -1.599111   \n",
       "2       -0.352247  -0.114517    -0.255029 -0.062051 -0.162018 -0.489110   \n",
       "3       -0.352247  -0.114517    -0.255029 -0.062051 -0.162018  0.990891   \n",
       "4        4.284008  -0.114517    -0.255029 -0.062051 -0.162018 -1.599111   \n",
       "5       -0.352247  -0.114517    -0.255029 -0.062051 -0.162018  2.100892   \n",
       "\n",
       "      YrSold  SaleType  SaleCondition  \n",
       "Id                                     \n",
       "1   0.138777  0.313867       0.208502  \n",
       "2  -0.614439  0.313867       0.208502  \n",
       "3   0.138777  0.313867       0.208502  \n",
       "4  -1.367655  0.313867      -3.426284  \n",
       "5   0.138777  0.313867       0.208502  \n",
       "\n",
       "[5 rows x 74 columns]"
      ]
     },
     "execution_count": 114,
     "metadata": {},
     "output_type": "execute_result"
    }
   ],
   "source": [
    "data.head()"
   ]
  },
  {
   "cell_type": "code",
   "execution_count": 115,
   "metadata": {},
   "outputs": [],
   "source": [
    "df_as_np=data.to_numpy()\n",
    "Y=y\n",
    "middle=df_as_np\n",
    "X=middle.reshape((len(Y),middle.shape[1]))\n",
    "test_data=test.to_numpy()\n",
    "final_test=test_data.reshape((len(test_data),middle.shape[1]))\n",
    "# Y=temp.to_numpy()"
   ]
  },
  {
   "cell_type": "code",
   "execution_count": 116,
   "metadata": {},
   "outputs": [
    {
     "name": "stdout",
     "output_type": "stream",
     "text": [
      "(1460, 74)\n",
      "(1460, 1)\n",
      "(1459, 74)\n"
     ]
    }
   ],
   "source": [
    "print(X.shape)\n",
    "print(Y.shape)\n",
    "print(final_test.shape)"
   ]
  },
  {
   "cell_type": "code",
   "execution_count": 117,
   "metadata": {},
   "outputs": [],
   "source": [
    "q_80=int(len(Y)*0.8)\n",
    "q_90=int(len(Y)*0.9)\n",
    "X_train,y_train=X[:q_80],Y[:q_80]\n",
    "X_val, y_val = X[q_80:q_90], Y[q_80:q_90]\n",
    "X_test, y_test=X[q_90:], Y[q_90:]"
   ]
  },
  {
   "cell_type": "code",
   "execution_count": 118,
   "metadata": {},
   "outputs": [],
   "source": [
    "sale_normalizer = Normalization(input_shape=(74,),axis=-1)\n",
    "sale_normalizer.adapt(X_train)"
   ]
  },
  {
   "cell_type": "code",
   "execution_count": 119,
   "metadata": {},
   "outputs": [],
   "source": [
    "from tensorflow.keras.models import Sequential\n",
    "from tensorflow.keras.optimizers import Adam\n",
    "from tensorflow.keras import layers\n",
    "\n",
    "model=Sequential([\n",
    "    # sale_normalizer,\n",
    "    # Dropout(0.2),\n",
    "    layers.Dense(512,input_shape=(74,),activation='relu'),        ## '64' is the number of units(neurons) and is necessary for dense layers\n",
    "    Dropout(0.2),\n",
    "    layers.Dense(128, activation='relu'),\n",
    "    Dropout(0.2),\n",
    "    layers.Dense(32, activation='relu'),\n",
    "    Dropout(0.2),\n",
    "    # layers.Dense(32, activation='relu'),\n",
    "    # Dropout(0.2),\n",
    "    layers.Dense(1)\n",
    "])"
   ]
  },
  {
   "cell_type": "code",
   "execution_count": 120,
   "metadata": {},
   "outputs": [],
   "source": [
    "model.compile(loss='mse',optimizer=Adam(learning_rate=0.001),metrics=['mean_absolute_error'])"
   ]
  },
  {
   "cell_type": "code",
   "execution_count": 121,
   "metadata": {},
   "outputs": [
    {
     "name": "stdout",
     "output_type": "stream",
     "text": [
      "Epoch 1/10\n"
     ]
    },
    {
     "name": "stdout",
     "output_type": "stream",
     "text": [
      "37/37 - 1s - loss: 0.3744 - mean_absolute_error: 0.4084 - val_loss: 0.4479 - val_mean_absolute_error: 0.3233 - 673ms/epoch - 18ms/step\n",
      "Epoch 2/10\n",
      "37/37 - 0s - loss: 0.2204 - mean_absolute_error: 0.3087 - val_loss: 0.4420 - val_mean_absolute_error: 0.3057 - 156ms/epoch - 4ms/step\n",
      "Epoch 3/10\n",
      "37/37 - 0s - loss: 0.1686 - mean_absolute_error: 0.2781 - val_loss: 0.4204 - val_mean_absolute_error: 0.2845 - 122ms/epoch - 3ms/step\n",
      "Epoch 4/10\n",
      "37/37 - 0s - loss: 0.1569 - mean_absolute_error: 0.2553 - val_loss: 0.4228 - val_mean_absolute_error: 0.2829 - 120ms/epoch - 3ms/step\n",
      "Epoch 5/10\n",
      "37/37 - 0s - loss: 0.1444 - mean_absolute_error: 0.2600 - val_loss: 0.4275 - val_mean_absolute_error: 0.2722 - 155ms/epoch - 4ms/step\n",
      "Epoch 6/10\n",
      "37/37 - 0s - loss: 0.1393 - mean_absolute_error: 0.2546 - val_loss: 0.4405 - val_mean_absolute_error: 0.2706 - 126ms/epoch - 3ms/step\n",
      "Epoch 7/10\n",
      "37/37 - 0s - loss: 0.1277 - mean_absolute_error: 0.2359 - val_loss: 0.4420 - val_mean_absolute_error: 0.2695 - 126ms/epoch - 3ms/step\n",
      "Epoch 8/10\n",
      "37/37 - 0s - loss: 0.1133 - mean_absolute_error: 0.2314 - val_loss: 0.4310 - val_mean_absolute_error: 0.2745 - 137ms/epoch - 4ms/step\n",
      "Epoch 9/10\n",
      "37/37 - 0s - loss: 0.1126 - mean_absolute_error: 0.2301 - val_loss: 0.4567 - val_mean_absolute_error: 0.2822 - 148ms/epoch - 4ms/step\n",
      "Epoch 10/10\n",
      "37/37 - 0s - loss: 0.1091 - mean_absolute_error: 0.2176 - val_loss: 0.4307 - val_mean_absolute_error: 0.2700 - 161ms/epoch - 4ms/step\n"
     ]
    },
    {
     "data": {
      "text/plain": [
       "<keras.callbacks.History at 0x1742423e700>"
      ]
     },
     "execution_count": 121,
     "metadata": {},
     "output_type": "execute_result"
    }
   ],
   "source": [
    "model.fit(X_train,y_train,validation_data=(X_val,y_val),epochs=10,verbose=2)"
   ]
  },
  {
   "cell_type": "code",
   "execution_count": 122,
   "metadata": {},
   "outputs": [
    {
     "name": "stdout",
     "output_type": "stream",
     "text": [
      "5/5 [==============================] - 0s 2ms/step\n"
     ]
    },
    {
     "data": {
      "text/plain": [
       "[<matplotlib.lines.Line2D at 0x1742bc64eb0>]"
      ]
     },
     "execution_count": 122,
     "metadata": {},
     "output_type": "execute_result"
    },
    {
     "data": {
      "image/png": "[encoded data removed]",
      "text/plain": [
       "<Figure size 640x480 with 1 Axes>"
      ]
     },
     "metadata": {},
     "output_type": "display_data"
    }
   ],
   "source": [
    "pred=model.predict(X_test).flatten()\n",
    "plt.plot(y_test)\n",
    "plt.plot(pred)"
   ]
  },
  {
   "cell_type": "code",
   "execution_count": 123,
   "metadata": {},
   "outputs": [
    {
     "name": "stdout",
     "output_type": "stream",
     "text": [
      "46/46 [==============================] - 0s 1ms/step\n"
     ]
    }
   ],
   "source": [
    "pred=model.predict(final_test)"
   ]
  },
  {
   "cell_type": "code",
   "execution_count": 124,
   "metadata": {},
   "outputs": [
    {
     "data": {
      "text/plain": [
       "(1459, 1)"
      ]
     },
     "execution_count": 124,
     "metadata": {},
     "output_type": "execute_result"
    }
   ],
   "source": [
    "pred.shape"
   ]
  },
  {
   "cell_type": "code",
   "execution_count": 125,
   "metadata": {},
   "outputs": [],
   "source": [
    "pred=pred.reshape(len(pred),1)\n",
    "p=sc.inverse_transform(pred)"
   ]
  },
  {
   "cell_type": "code",
   "execution_count": 126,
   "metadata": {},
   "outputs": [
    {
     "data": {
      "text/plain": [
       "array([[134930.67],\n",
       "       [164109.36],\n",
       "       [185708.58],\n",
       "       ...,\n",
       "       [178185.73],\n",
       "       [136654.  ],\n",
       "       [246934.42]], dtype=float32)"
      ]
     },
     "execution_count": 126,
     "metadata": {},
     "output_type": "execute_result"
    }
   ],
   "source": [
    "p"
   ]
  },
  {
   "cell_type": "code",
   "execution_count": 127,
   "metadata": {},
   "outputs": [],
   "source": [
    "# final_submit_id=final_submit_id.to_numpy()\n",
    "# final_submit_id=final_submit_id.reshape(len(final_submit_id))\n",
    "# print(final_submit_id.shape)"
   ]
  },
  {
   "cell_type": "code",
   "execution_count": 128,
   "metadata": {},
   "outputs": [
    {
     "data": {
      "text/plain": [
       "(1168, 1)"
      ]
     },
     "execution_count": 128,
     "metadata": {},
     "output_type": "execute_result"
    }
   ],
   "source": [
    "y_train.shape"
   ]
  },
  {
   "cell_type": "code",
   "execution_count": 129,
   "metadata": {},
   "outputs": [],
   "source": [
    "# from sklearn.linear_model import LogisticRegression\n",
    "# from sklearn import metrics\n",
    "# logreg=LogisticRegression(max_iter=1000)\n",
    "\n",
    "# from sklearn.model_selection import train_test_split\n",
    "# x=train_df\n",
    "# y=temp\n",
    "# x_train,x_test,y_train,y_test=train_test_split(x,y,train_size=0.8,test_size=0.2,random_state=42)\n",
    "\n",
    "# logreg.fit(x_train,y_train)"
   ]
  },
  {
   "cell_type": "code",
   "execution_count": 130,
   "metadata": {},
   "outputs": [],
   "source": [
    "# pred=logreg.predict(test_df)"
   ]
  },
  {
   "cell_type": "code",
   "execution_count": 131,
   "metadata": {},
   "outputs": [],
   "source": [
    "# pred\n",
    "# p=pred"
   ]
  },
  {
   "cell_type": "code",
   "execution_count": 132,
   "metadata": {},
   "outputs": [
    {
     "name": "stdout",
     "output_type": "stream",
     "text": [
      "(1459,)\n"
     ]
    }
   ],
   "source": [
    "p=p.reshape(len(p))\n",
    "print(p.shape)"
   ]
  },
  {
   "cell_type": "code",
   "execution_count": 133,
   "metadata": {},
   "outputs": [
    {
     "data": {
      "text/html": [
       "<div>\n",
       "<style scoped>\n",
       "    .dataframe tbody tr th:only-of-type {\n",
       "        vertical-align: middle;\n",
       "    }\n",
       "\n",
       "    .dataframe tbody tr th {\n",
       "        vertical-align: top;\n",
       "    }\n",
       "\n",
       "    .dataframe thead th {\n",
       "        text-align: right;\n",
       "    }\n",
       "</style>\n",
       "<table border=\"1\" class=\"dataframe\">\n",
       "  <thead>\n",
       "    <tr style=\"text-align: right;\">\n",
       "      <th></th>\n",
       "      <th>Id</th>\n",
       "      <th>SalePrice</th>\n",
       "    </tr>\n",
       "  </thead>\n",
       "  <tbody>\n",
       "    <tr>\n",
       "      <th>0</th>\n",
       "      <td>1461</td>\n",
       "      <td>134930.671875</td>\n",
       "    </tr>\n",
       "    <tr>\n",
       "      <th>1</th>\n",
       "      <td>1462</td>\n",
       "      <td>164109.359375</td>\n",
       "    </tr>\n",
       "    <tr>\n",
       "      <th>2</th>\n",
       "      <td>1463</td>\n",
       "      <td>185708.578125</td>\n",
       "    </tr>\n",
       "    <tr>\n",
       "      <th>3</th>\n",
       "      <td>1464</td>\n",
       "      <td>193040.484375</td>\n",
       "    </tr>\n",
       "    <tr>\n",
       "      <th>4</th>\n",
       "      <td>1465</td>\n",
       "      <td>184240.671875</td>\n",
       "    </tr>\n",
       "  </tbody>\n",
       "</table>\n",
       "</div>"
      ],
      "text/plain": [
       "     Id      SalePrice\n",
       "0  1461  134930.671875\n",
       "1  1462  164109.359375\n",
       "2  1463  185708.578125\n",
       "3  1464  193040.484375\n",
       "4  1465  184240.671875"
      ]
     },
     "execution_count": 133,
     "metadata": {},
     "output_type": "execute_result"
    }
   ],
   "source": [
    "dict={'Id':final_submit_id,'SalePrice':p}\n",
    "df=pd.DataFrame(dict)\n",
    "df.head()"
   ]
  },
  {
   "cell_type": "code",
   "execution_count": 134,
   "metadata": {},
   "outputs": [],
   "source": [
    "df.to_csv('submit.csv',index=False)"
   ]
  },
  {
   "cell_type": "code",
   "execution_count": null,
   "metadata": {},
   "outputs": [],
   "source": []
  }
 ],
 "metadata": {
  "kernelspec": {
   "display_name": "base",
   "language": "python",
   "name": "python3"
  },
  "language_info": {
   "codemirror_mode": {
    "name": "ipython",
    "version": 3
   },
   "file_extension": ".py",
   "mimetype": "text/x-python",
   "name": "python",
   "nbconvert_exporter": "python",
   "pygments_lexer": "ipython3",
   "version": "3.9.13"
  },
  "orig_nbformat": 4
 },
 "nbformat": 4,
 "nbformat_minor": 2
}
